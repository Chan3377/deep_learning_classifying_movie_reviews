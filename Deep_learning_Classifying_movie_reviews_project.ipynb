{
  "nbformat": 4,
  "nbformat_minor": 0,
  "metadata": {
    "colab": {
      "provenance": [],
      "gpuType": "T4"
    },
    "kernelspec": {
      "name": "python3",
      "display_name": "Python 3"
    },
    "language_info": {
      "name": "python"
    },
    "accelerator": "GPU"
  },
  "cells": [
    {
      "cell_type": "markdown",
      "source": [
        "# **Classifying movie reviews: A binary classification**"
      ],
      "metadata": {
        "id": "5iPhAwP3xx_8"
      }
    },
    {
      "cell_type": "markdown",
      "source": [
        "The IMDB dataset: a set of 50,000 highly polarized reviews from the Internet Movie Database. They’re split into 25,000 reviews for training and 25,000 reviews for testing, each set consisting of 50% negative and 50% positive reviews.\n",
        "\n",
        "Just like the MNIST dataset, the IMDB dataset comes packaged with Keras. It has already been preprocessed: the reviews (sequences of words) have been turned\n",
        "into sequences of integers, where each integer stands for a specific word in a dictionary."
      ],
      "metadata": {
        "id": "fGX6tIprqIT8"
      }
    },
    {
      "cell_type": "markdown",
      "source": [
        "The goal of the project is to classify movie reviews as positive or negative, based on the text content of the reviews"
      ],
      "metadata": {
        "id": "oHu191ZFnqaT"
      }
    },
    {
      "cell_type": "markdown",
      "source": [
        "**The IMDB Dataset**"
      ],
      "metadata": {
        "id": "iK52HmlhyEZS"
      }
    },
    {
      "cell_type": "code",
      "execution_count": 3,
      "metadata": {
        "id": "Gv4lXJTAoTU3"
      },
      "outputs": [],
      "source": [
        "from tensorflow import keras\n",
        "from tensorflow.keras import layers\n",
        "from tensorflow.keras.datasets import imdb\n",
        "import matplotlib.pyplot as plt\n",
        "import numpy as np"
      ]
    },
    {
      "cell_type": "code",
      "source": [
        "# num_words=10000 - keep the top 10,000 most frequently occurring words in the training data\n",
        "\n",
        "(train_data, train_labels), (test_data, test_labels) = imdb.load_data(num_words=10000)"
      ],
      "metadata": {
        "id": "P7HY23QFouC1"
      },
      "execution_count": 4,
      "outputs": []
    },
    {
      "cell_type": "code",
      "source": [
        " # The data contains the array of lists of processing data\n",
        "\n",
        "# train_data\n",
        "# train_data[0]\n",
        "train_data.shape, train_labels.shape, train_data[0][:10], train_labels[:10]"
      ],
      "metadata": {
        "colab": {
          "base_uri": "https://localhost:8080/"
        },
        "id": "1pPEAXYIgklm",
        "outputId": "112cbc8f-26ec-4f1f-f817-f41054978f60"
      },
      "execution_count": 5,
      "outputs": [
        {
          "output_type": "execute_result",
          "data": {
            "text/plain": [
              "((25000,),\n",
              " (25000,),\n",
              " [1, 14, 22, 16, 43, 530, 973, 1622, 1385, 65],\n",
              " array([1, 0, 0, 1, 0, 0, 1, 0, 1, 0]))"
            ]
          },
          "metadata": {},
          "execution_count": 5
        }
      ]
    },
    {
      "cell_type": "code",
      "source": [
        "# verify the number of word\n",
        "\n",
        "max([max(num_word) for num_word in train_data])"
      ],
      "metadata": {
        "colab": {
          "base_uri": "https://localhost:8080/"
        },
        "id": "DWQgzeN8pCo7",
        "outputId": "addc16d0-c7a2-4a8a-e68d-e0129ddd63de"
      },
      "execution_count": 6,
      "outputs": [
        {
          "output_type": "execute_result",
          "data": {
            "text/plain": [
              "9999"
            ]
          },
          "metadata": {},
          "execution_count": 6
        }
      ]
    },
    {
      "cell_type": "markdown",
      "source": [
        "**Decoding reviews back to text**"
      ],
      "metadata": {
        "id": "hhlmi8ijjNAD"
      }
    },
    {
      "cell_type": "code",
      "source": [
        "# word_index is a dictionary mapping words to an integer index\n",
        "word_index = imdb.get_word_index()\n",
        "\n",
        "# Reverses mapping integer indices to words\n",
        "reverse_word_index = dict(\n",
        "    [(value, key) for (key, value) in word_index.items()]\n",
        ")\n",
        "\n",
        "# Decodes the review.\n",
        "# The indices are offset by 3 because 0, 1, and 2 are reserved indices for “padding,” “start of sequence,” and “unknown.”\n",
        "decoded_review = \" \".join(\n",
        "    [reverse_word_index.get(i-3, \"?\") for i in train_data[0]]\n",
        ")"
      ],
      "metadata": {
        "id": "2CbU1Ygyp6RO"
      },
      "execution_count": 7,
      "outputs": []
    },
    {
      "cell_type": "markdown",
      "source": [
        "**Decoded_review code explanation**\n",
        "* The ***i-3*** part of the code is used to get the reverse index of the word at the current position i in the train_data list\n",
        "* If the key ***i-3*** does not exist in the dictionary, it returns the default value **\"?\"**."
      ],
      "metadata": {
        "id": "WsZ_8gjX1aoA"
      }
    },
    {
      "cell_type": "markdown",
      "source": [
        "**[reverse_word_index.get(i-3, \"?\") for i in train_data[0]]**\n",
        "\n",
        "The reserved indices **0**, **1**, and **2** in the context of natural language processing have specific meanings and uses. They are not related to the search results provided, which are unrelated to the topic of reserved indices in NLP.\n",
        "\n",
        "In the context of natural language processing, the reserved indices 0, 1, and 2\n",
        "are used for special purposes:\n",
        "\n",
        "* **0**: This index is reserved for \"padding.\" Padding is a technique used to ensure that the input data has a consistent length, which is necessary for some machine learning algorithms. In the context of word indices, padding is used to fill the input sequence with a special word or token that does not have any meaning in the text, but it helps maintain the structure of the input data.\n",
        "\n",
        "* **1**: This index is reserved for \"start of sequence.\" In some NLP tasks, it is necessary to indicate the beginning of a sequence of words. The index 1 is used to represent the start of the sequence, allowing the model to recognize the beginning of the input text.\n",
        "\n",
        "* **2**: This index is reserved for \"unknown.\" In some cases, the model may encounter words or tokens that are not in its vocabulary.\n",
        "The index 2 is used to represent these unknown words, allowing the model to handle them appropriately, such as by ignoring them or replacing them with a default token.\n",
        "\n",
        "These reserved indices are used to ensure that the model can process the input data correctly and handle special cases, such as the beginning of a sequence or unknown words."
      ],
      "metadata": {
        "id": "seRC1bivRPvD"
      }
    },
    {
      "cell_type": "code",
      "source": [
        "# check the item in word_idex dict\n",
        "\n",
        "{k:v for (k, v) in word_index.items() if v < 11 }"
      ],
      "metadata": {
        "colab": {
          "base_uri": "https://localhost:8080/"
        },
        "id": "AUiu9JoSd4Gn",
        "outputId": "6595956a-dfe8-4a94-81ce-4cfae5a6f74f"
      },
      "execution_count": 8,
      "outputs": [
        {
          "output_type": "execute_result",
          "data": {
            "text/plain": [
              "{'i': 10,\n",
              " 'it': 9,\n",
              " 'is': 6,\n",
              " 'in': 8,\n",
              " 'of': 4,\n",
              " 'a': 3,\n",
              " 'br': 7,\n",
              " 'the': 1,\n",
              " 'and': 2,\n",
              " 'to': 5}"
            ]
          },
          "metadata": {},
          "execution_count": 8
        }
      ]
    },
    {
      "cell_type": "code",
      "source": [
        "# The i-3 part of the code is used to get the reverse index of the word at the current position i in the train_data list\n",
        "# If the not found, replace with \"?\"\n",
        "\n",
        "[reverse_word_index.get(i-3, \"?\") for i in train_data[0][:10]]"
      ],
      "metadata": {
        "colab": {
          "base_uri": "https://localhost:8080/"
        },
        "id": "AH9NnpgXpBu4",
        "outputId": "7f81fd8a-a4ed-467b-bbfd-7d3347844b03"
      },
      "execution_count": 9,
      "outputs": [
        {
          "output_type": "execute_result",
          "data": {
            "text/plain": [
              "['?',\n",
              " 'this',\n",
              " 'film',\n",
              " 'was',\n",
              " 'just',\n",
              " 'brilliant',\n",
              " 'casting',\n",
              " 'location',\n",
              " 'scenery',\n",
              " 'story']"
            ]
          },
          "metadata": {},
          "execution_count": 9
        }
      ]
    },
    {
      "cell_type": "code",
      "source": [
        "# check the reverse_word_idex\n",
        "\n",
        "{v: k for (v, k) in reverse_word_index.items() if v < 11 }"
      ],
      "metadata": {
        "colab": {
          "base_uri": "https://localhost:8080/"
        },
        "id": "eKdV8GUjb21Z",
        "outputId": "ed3240eb-c6eb-4c77-fd51-003929569cad"
      },
      "execution_count": 10,
      "outputs": [
        {
          "output_type": "execute_result",
          "data": {
            "text/plain": [
              "{10: 'i',\n",
              " 9: 'it',\n",
              " 6: 'is',\n",
              " 8: 'in',\n",
              " 4: 'of',\n",
              " 3: 'a',\n",
              " 7: 'br',\n",
              " 1: 'the',\n",
              " 2: 'and',\n",
              " 5: 'to'}"
            ]
          },
          "metadata": {},
          "execution_count": 10
        }
      ]
    },
    {
      "cell_type": "code",
      "source": [
        "decoded_review"
      ],
      "metadata": {
        "colab": {
          "base_uri": "https://localhost:8080/",
          "height": 127
        },
        "id": "qPjMhArlnQF_",
        "outputId": "aac88348-d16a-4e2c-ddba-c9cd5048955a"
      },
      "execution_count": 11,
      "outputs": [
        {
          "output_type": "execute_result",
          "data": {
            "text/plain": [
              "\"? this film was just brilliant casting location scenery story direction everyone's really suited the part they played and you could just imagine being there robert ? is an amazing actor and now the same being director ? father came from the same scottish island as myself so i loved the fact there was a real connection with this film the witty remarks throughout the film were great it was just brilliant so much that i bought the film as soon as it was released for ? and would recommend it to everyone to watch and the fly fishing was amazing really cried at the end it was so sad and you know what they say if you cry at a film it must have been good and this definitely was also ? to the two little boy's that played the ? of norman and paul they were just brilliant children are often left out of the ? list i think because the stars that play them all grown up are such a big profile for the whole film but these children are amazing and should be praised for what they have done don't you think the whole story was so lovely because it was true and was someone's life after all that was shared with us all\""
            ],
            "application/vnd.google.colaboratory.intrinsic+json": {
              "type": "string"
            }
          },
          "metadata": {},
          "execution_count": 11
        }
      ]
    },
    {
      "cell_type": "markdown",
      "source": [
        "**Preparing the Data**"
      ],
      "metadata": {
        "id": "_qXPcOaxxRo1"
      }
    },
    {
      "cell_type": "markdown",
      "source": [
        "A neural network expects to process contiguous batches of data. So, we have to turn the lists into tensors."
      ],
      "metadata": {
        "id": "OfhNRH1-nS4s"
      }
    },
    {
      "cell_type": "code",
      "source": [
        "# Encoding the integer sequences via multi-hot encoding\n",
        "def vectorize_sequences(sequences, dimension=10000):\n",
        "\n",
        "  # creates an all-zero matrix of shape (len(sequences), dimension)\n",
        "  results = np.zeros((len(sequences), dimension))\n",
        "  for i, sequence in enumerate(sequences):\n",
        "    for j in sequence:\n",
        "      # sets specific indices of results[i] to 1s\n",
        "      results[i, j] = 1.\n",
        "    return results"
      ],
      "metadata": {
        "id": "cD1bq3hjnS_0"
      },
      "execution_count": 12,
      "outputs": []
    },
    {
      "cell_type": "code",
      "source": [
        "# Vectorized training data and testing data\n",
        "x_train = vectorize_sequences(train_data)\n",
        "x_test = vectorize_sequences(test_data)"
      ],
      "metadata": {
        "id": "j6Qwmei4BW6k"
      },
      "execution_count": 13,
      "outputs": []
    },
    {
      "cell_type": "code",
      "source": [
        "x_train.shape, x_train[0]"
      ],
      "metadata": {
        "colab": {
          "base_uri": "https://localhost:8080/"
        },
        "id": "R4mBqxDLCLuS",
        "outputId": "2d3b4935-2ff3-4d94-9c1f-445bad3baca2"
      },
      "execution_count": 14,
      "outputs": [
        {
          "output_type": "execute_result",
          "data": {
            "text/plain": [
              "((25000, 10000), array([0., 1., 1., ..., 0., 0., 0.]))"
            ]
          },
          "metadata": {},
          "execution_count": 14
        }
      ]
    },
    {
      "cell_type": "code",
      "source": [
        "# Vectorize label data with numpy which is more straightforward\n",
        "\n",
        "y_train = np.asarray(train_labels).astype(\"float32\")\n",
        "y_test = np.asarray(test_labels).astype(\"float32\")"
      ],
      "metadata": {
        "id": "8ZBBCS_cCNVP"
      },
      "execution_count": 15,
      "outputs": []
    },
    {
      "cell_type": "code",
      "source": [
        "x_train[0]"
      ],
      "metadata": {
        "colab": {
          "base_uri": "https://localhost:8080/"
        },
        "id": "NnTGzgqzkg1M",
        "outputId": "57ef8863-43cd-4222-9e72-28bd9100c4c7"
      },
      "execution_count": 16,
      "outputs": [
        {
          "output_type": "execute_result",
          "data": {
            "text/plain": [
              "array([0., 1., 1., ..., 0., 0., 0.])"
            ]
          },
          "metadata": {},
          "execution_count": 16
        }
      ]
    },
    {
      "cell_type": "markdown",
      "source": [
        "**Building model**"
      ],
      "metadata": {
        "id": "dOB2p8VJDO0u"
      }
    },
    {
      "cell_type": "markdown",
      "source": [
        "Build model with the following architecure:\n",
        "\n",
        "\n",
        "*   Two intermediate layers with 16 units each (A Dense layer with 16 output units)\n",
        "*   A third layer that will output the scalar prediction regarding the sentiment of the current review\n",
        "\n"
      ],
      "metadata": {
        "id": "W271XN3CD3mX"
      }
    },
    {
      "cell_type": "markdown",
      "source": [
        "* A relu (rectified linear unit) is a function meant to zero out negative values\n",
        "* A sigmoid “squashes” arbitrary values into the [0, 1] interval"
      ],
      "metadata": {
        "id": "0VoRvCU0wUAE"
      }
    },
    {
      "cell_type": "code",
      "source": [
        "# Model definition\n",
        "model = keras.Sequential([\n",
        "    layers.Dense(16, activation='relu'),\n",
        "    layers.Dense(16, activation='relu'),\n",
        "    layers.Dense(1, activation='sigmoid')\n",
        "])"
      ],
      "metadata": {
        "id": "CQAenKdkDWkV"
      },
      "execution_count": 17,
      "outputs": []
    },
    {
      "cell_type": "markdown",
      "source": [
        "**Crossentropy** is a quantity from the field of information theory that **measures the distance between probability distribution**s or, in this case, **between the ground-truth distribution and predictions**."
      ],
      "metadata": {
        "id": "2Y0W7YqYw6C_"
      }
    },
    {
      "cell_type": "code",
      "source": [
        "# Compiling the model\n",
        "model.compile(optimizer=\"rmsprop\",\n",
        "              loss=\"binary_crossentropy\",\n",
        "              metrics=[\"accuracy\"])"
      ],
      "metadata": {
        "id": "DlxNX-o9HdvG"
      },
      "execution_count": 18,
      "outputs": []
    },
    {
      "cell_type": "markdown",
      "source": [
        "**Validating approach**"
      ],
      "metadata": {
        "id": "7QCJL81iHq4F"
      }
    },
    {
      "cell_type": "code",
      "source": [
        "# Setting aside a validation set\n",
        "\n",
        "x_val = x_train[:10000]\n",
        "partial_x_train = x_train[10000:]\n",
        "y_val = y_train[:10000]\n",
        "partial_y_train = y_train[10000:]"
      ],
      "metadata": {
        "id": "msFSJQ-IHy4b"
      },
      "execution_count": 19,
      "outputs": []
    },
    {
      "cell_type": "code",
      "source": [
        "x_val.shape, partial_x_train.shape, y_val.shape, partial_y_train.shape"
      ],
      "metadata": {
        "colab": {
          "base_uri": "https://localhost:8080/"
        },
        "id": "MQfYEtXStWc7",
        "outputId": "fe0975db-112a-4d15-8ef5-84c4cc8aa486"
      },
      "execution_count": 20,
      "outputs": [
        {
          "output_type": "execute_result",
          "data": {
            "text/plain": [
              "((10000, 10000), (15000, 10000), (10000,), (15000,))"
            ]
          },
          "metadata": {},
          "execution_count": 20
        }
      ]
    },
    {
      "cell_type": "markdown",
      "source": [
        "Train the model for 20 epochs (20 iterations over all samples in the training data) in mini-batches of 512 samples.\n",
        "\n",
        "Monitor loss and accuracy on the 10,000 samples that we set apart by passing the validation data as the *validation_dat*a argument."
      ],
      "metadata": {
        "id": "Sk07IP5fKQ_f"
      }
    },
    {
      "cell_type": "code",
      "source": [
        "history = model.fit(partial_x_train,\n",
        "                    partial_y_train,\n",
        "                    epochs=20,\n",
        "                    batch_size=512,\n",
        "                    validation_data=(x_val, y_val))"
      ],
      "metadata": {
        "colab": {
          "base_uri": "https://localhost:8080/"
        },
        "id": "cCzBOnPcKuyl",
        "outputId": "4d2078fe-5127-45a4-dd18-3a399ae7059d"
      },
      "execution_count": 21,
      "outputs": [
        {
          "output_type": "stream",
          "name": "stdout",
          "text": [
            "Epoch 1/20\n",
            "30/30 [==============================] - 5s 76ms/step - loss: 0.6932 - accuracy: 0.4974 - val_loss: 0.6931 - val_accuracy: 0.4948\n",
            "Epoch 2/20\n",
            "30/30 [==============================] - 1s 25ms/step - loss: 0.6932 - accuracy: 0.5002 - val_loss: 0.6932 - val_accuracy: 0.4948\n",
            "Epoch 3/20\n",
            "30/30 [==============================] - 1s 26ms/step - loss: 0.6931 - accuracy: 0.5035 - val_loss: 0.6932 - val_accuracy: 0.4948\n",
            "Epoch 4/20\n",
            "30/30 [==============================] - 1s 27ms/step - loss: 0.6931 - accuracy: 0.5035 - val_loss: 0.6932 - val_accuracy: 0.4948\n",
            "Epoch 5/20\n",
            "30/30 [==============================] - 1s 25ms/step - loss: 0.6931 - accuracy: 0.5035 - val_loss: 0.6932 - val_accuracy: 0.4948\n",
            "Epoch 6/20\n",
            "30/30 [==============================] - 1s 24ms/step - loss: 0.6931 - accuracy: 0.5035 - val_loss: 0.6932 - val_accuracy: 0.4948\n",
            "Epoch 7/20\n",
            "30/30 [==============================] - 1s 24ms/step - loss: 0.6931 - accuracy: 0.5035 - val_loss: 0.6932 - val_accuracy: 0.4948\n",
            "Epoch 8/20\n",
            "30/30 [==============================] - 1s 24ms/step - loss: 0.6931 - accuracy: 0.5035 - val_loss: 0.6932 - val_accuracy: 0.4948\n",
            "Epoch 9/20\n",
            "30/30 [==============================] - 1s 24ms/step - loss: 0.6931 - accuracy: 0.5035 - val_loss: 0.6932 - val_accuracy: 0.4948\n",
            "Epoch 10/20\n",
            "30/30 [==============================] - 1s 26ms/step - loss: 0.6931 - accuracy: 0.5035 - val_loss: 0.6932 - val_accuracy: 0.4948\n",
            "Epoch 11/20\n",
            "30/30 [==============================] - 1s 26ms/step - loss: 0.6931 - accuracy: 0.5035 - val_loss: 0.6932 - val_accuracy: 0.4948\n",
            "Epoch 12/20\n",
            "30/30 [==============================] - 1s 31ms/step - loss: 0.6931 - accuracy: 0.5035 - val_loss: 0.6932 - val_accuracy: 0.4948\n",
            "Epoch 13/20\n",
            "30/30 [==============================] - 1s 31ms/step - loss: 0.6931 - accuracy: 0.5035 - val_loss: 0.6932 - val_accuracy: 0.4948\n",
            "Epoch 14/20\n",
            "30/30 [==============================] - 1s 29ms/step - loss: 0.6931 - accuracy: 0.5035 - val_loss: 0.6933 - val_accuracy: 0.4948\n",
            "Epoch 15/20\n",
            "30/30 [==============================] - 1s 24ms/step - loss: 0.6931 - accuracy: 0.5035 - val_loss: 0.6933 - val_accuracy: 0.4948\n",
            "Epoch 16/20\n",
            "30/30 [==============================] - 1s 26ms/step - loss: 0.6931 - accuracy: 0.5035 - val_loss: 0.6932 - val_accuracy: 0.4948\n",
            "Epoch 17/20\n",
            "30/30 [==============================] - 1s 26ms/step - loss: 0.6931 - accuracy: 0.5035 - val_loss: 0.6932 - val_accuracy: 0.4948\n",
            "Epoch 18/20\n",
            "30/30 [==============================] - 1s 24ms/step - loss: 0.6931 - accuracy: 0.5035 - val_loss: 0.6932 - val_accuracy: 0.4948\n",
            "Epoch 19/20\n",
            "30/30 [==============================] - 1s 26ms/step - loss: 0.6931 - accuracy: 0.5035 - val_loss: 0.6932 - val_accuracy: 0.4948\n",
            "Epoch 20/20\n",
            "30/30 [==============================] - 1s 23ms/step - loss: 0.6931 - accuracy: 0.5035 - val_loss: 0.6932 - val_accuracy: 0.4948\n"
          ]
        }
      ]
    },
    {
      "cell_type": "code",
      "source": [
        "history_dict = history.history\n",
        "history_dict.keys()"
      ],
      "metadata": {
        "colab": {
          "base_uri": "https://localhost:8080/"
        },
        "id": "ZsRWGzr3LTEJ",
        "outputId": "4dcc7315-039b-42a5-fdcf-59009465dfee"
      },
      "execution_count": 22,
      "outputs": [
        {
          "output_type": "execute_result",
          "data": {
            "text/plain": [
              "dict_keys(['loss', 'accuracy', 'val_loss', 'val_accuracy'])"
            ]
          },
          "metadata": {},
          "execution_count": 22
        }
      ]
    },
    {
      "cell_type": "code",
      "source": [
        "# Plotting the training and validation loss\n",
        "\n",
        "history_dict = history.history\n",
        "loss_values = history_dict[\"loss\"]\n",
        "val_loss_values = history_dict[\"val_loss\"]\n",
        "epochs = range(1, len(loss_values) + 1)\n",
        "plt.plot(epochs, loss_values, \"bo\", label=\"Training loss\") # \"bo\" is for \"blue dot\"\n",
        "plt.plot(epochs, val_loss_values, \"b\", label=\"Validation loss\") # \"b\" is for \"solid blue line\"\n",
        "plt.title(\"Training and validation loss\")\n",
        "plt.xlabel(\"Epochs\")\n",
        "plt.ylabel(\"Loss\")\n",
        "plt.legend()\n",
        "plt.show()"
      ],
      "metadata": {
        "colab": {
          "base_uri": "https://localhost:8080/",
          "height": 472
        },
        "id": "9O9DwJrPMNxw",
        "outputId": "4205d129-bc60-4412-a71a-8453b94b437b"
      },
      "execution_count": 23,
      "outputs": [
        {
          "output_type": "display_data",
          "data": {
            "text/plain": [
              "<Figure size 640x480 with 1 Axes>"
            ],
            "image/png": "[encoded data removed]"
          },
          "metadata": {}
        }
      ]
    },
    {
      "cell_type": "code",
      "source": [
        "# Plotting the training and validation accuracy\n",
        "\n",
        "plt.clf() # Clears the figure\n",
        "history_dict = history.history\n",
        "acc = history_dict[\"accuracy\"]\n",
        "val_acc = history_dict[\"val_accuracy\"]\n",
        "plt.plot(epochs, acc, \"bo\", label=\"Training acc\")\n",
        "plt.plot(epochs, val_acc, \"b\", label=\"Validation acc\")\n",
        "plt.title(\"Training and validation accuracy\")\n",
        "plt.xlabel(\"Epochs\")\n",
        "plt.ylabel(\"Accuracy\")\n",
        "plt.legend()\n",
        "plt.show()"
      ],
      "metadata": {
        "colab": {
          "base_uri": "https://localhost:8080/",
          "height": 472
        },
        "id": "kHQzBaiiMPwZ",
        "outputId": "18167d00-92f2-4b02-e279-ffd29412b630"
      },
      "execution_count": 24,
      "outputs": [
        {
          "output_type": "display_data",
          "data": {
            "text/plain": [
              "<Figure size 640x480 with 1 Axes>"
            ],
            "image/png": "[encoded data removed]"
          },
          "metadata": {}
        }
      ]
    },
    {
      "cell_type": "markdown",
      "source": [
        "**Retraining a model from scratch**"
      ],
      "metadata": {
        "id": "2nT2rU30bH76"
      }
    },
    {
      "cell_type": "code",
      "source": [
        "# Model definition\n",
        "model = keras.Sequential([\n",
        "    layers.Dense(16, activation='relu'),\n",
        "    layers.Dense(16, activation='relu'),\n",
        "    layers.Dense(1, activation='sigmoid')\n",
        "])"
      ],
      "metadata": {
        "id": "GM3sc3A_OwZn"
      },
      "execution_count": 25,
      "outputs": []
    },
    {
      "cell_type": "code",
      "source": [
        "# Compiling the model\n",
        "model.compile(optimizer=\"rmsprop\",\n",
        "              loss=\"binary_crossentropy\",\n",
        "              metrics=[\"accuracy\"])"
      ],
      "metadata": {
        "id": "awN4Xt8QO1y1"
      },
      "execution_count": 26,
      "outputs": []
    },
    {
      "cell_type": "code",
      "source": [
        "# train a new model from scratch for four epochs and then evaluate it on the test data\n",
        "\n",
        "model.fit(x_train, y_train, epochs=4, batch_size=512)"
      ],
      "metadata": {
        "colab": {
          "base_uri": "https://localhost:8080/"
        },
        "id": "c-4-V0BhOaWP",
        "outputId": "7d4019e7-3201-44c3-9232-4e225329de13"
      },
      "execution_count": 27,
      "outputs": [
        {
          "output_type": "stream",
          "name": "stdout",
          "text": [
            "Epoch 1/4\n",
            "49/49 [==============================] - 2s 15ms/step - loss: 0.6932 - accuracy: 0.5029\n",
            "Epoch 2/4\n",
            "49/49 [==============================] - 1s 20ms/step - loss: 0.6932 - accuracy: 0.4999\n",
            "Epoch 3/4\n",
            "49/49 [==============================] - 1s 19ms/step - loss: 0.6932 - accuracy: 0.4991\n",
            "Epoch 4/4\n",
            "49/49 [==============================] - 1s 15ms/step - loss: 0.6932 - accuracy: 0.4925\n"
          ]
        },
        {
          "output_type": "execute_result",
          "data": {
            "text/plain": [
              "<keras.src.callbacks.History at 0x7b322df44ca0>"
            ]
          },
          "metadata": {},
          "execution_count": 27
        }
      ]
    },
    {
      "cell_type": "code",
      "source": [
        "results = model.evaluate(x_test, y_test)"
      ],
      "metadata": {
        "colab": {
          "base_uri": "https://localhost:8080/"
        },
        "id": "dXyIFh9VPIUk",
        "outputId": "180a514b-51ab-40d5-b731-7ceb56eef82f"
      },
      "execution_count": 28,
      "outputs": [
        {
          "output_type": "stream",
          "name": "stdout",
          "text": [
            "782/782 [==============================] - 2s 3ms/step - loss: 0.6931 - accuracy: 0.5000\n"
          ]
        }
      ]
    },
    {
      "cell_type": "code",
      "source": [
        "# The first number, 0.69, is the test loss, and the second number, 0.49, is the test accuracy\n",
        "\n",
        "results"
      ],
      "metadata": {
        "colab": {
          "base_uri": "https://localhost:8080/"
        },
        "id": "P04J_vThPPTN",
        "outputId": "0e0e1329-78f7-4e40-ab17-90a5eec1e96d"
      },
      "execution_count": 29,
      "outputs": [
        {
          "output_type": "execute_result",
          "data": {
            "text/plain": [
              "[0.693149983882904, 0.4999600052833557]"
            ]
          },
          "metadata": {},
          "execution_count": 29
        }
      ]
    },
    {
      "cell_type": "markdown",
      "source": [
        "**Using a trained model to generate predictions on new data**"
      ],
      "metadata": {
        "id": "00jhB8yFPlpC"
      }
    },
    {
      "cell_type": "code",
      "source": [
        "model.predict(x_test)"
      ],
      "metadata": {
        "colab": {
          "base_uri": "https://localhost:8080/"
        },
        "id": "A-bA7RX4PnKZ",
        "outputId": "6c64d12a-a1f7-4469-8701-31323edf7415"
      },
      "execution_count": 30,
      "outputs": [
        {
          "output_type": "stream",
          "name": "stdout",
          "text": [
            "782/782 [==============================] - 2s 3ms/step\n"
          ]
        },
        {
          "output_type": "execute_result",
          "data": {
            "text/plain": [
              "array([[0.53117406],\n",
              "       [0.49910396],\n",
              "       [0.49910396],\n",
              "       ...,\n",
              "       [0.49910396],\n",
              "       [0.49910396],\n",
              "       [0.49910396]], dtype=float32)"
            ]
          },
          "metadata": {},
          "execution_count": 30
        }
      ]
    },
    {
      "cell_type": "markdown",
      "source": [
        "**Improving model with further experiments**"
      ],
      "metadata": {
        "id": "E3BYQnV12xWZ"
      }
    },
    {
      "cell_type": "code",
      "source": [
        "# Define the model\n",
        "model = keras.Sequential([\n",
        "    layers.Dense(128, activation=\"tanh\"),\n",
        "    layers.Dense(64, activation=\"tanh\"),\n",
        "    layers.Dense(32, activation=\"tanh\"),\n",
        "    layers.Dense(16, activation=\"tanh\"),\n",
        "    layers.Dense(1, activation='sigmoid')\n",
        "])"
      ],
      "metadata": {
        "id": "SEugXWVM3JRG"
      },
      "execution_count": 31,
      "outputs": []
    },
    {
      "cell_type": "code",
      "source": [
        "# Compiling the model\n",
        "model.compile(optimizer=\"rmsprop\",\n",
        "              loss=\"mse\",\n",
        "              metrics=[\"accuracy\"])"
      ],
      "metadata": {
        "id": "D3n0_PzM31Ms"
      },
      "execution_count": 32,
      "outputs": []
    },
    {
      "cell_type": "code",
      "source": [
        "history = model.fit(x_train,\n",
        "                    y_train,\n",
        "                    epochs=20,\n",
        "                    batch_size=512,\n",
        "                    validation_data=(x_test, y_test))"
      ],
      "metadata": {
        "colab": {
          "base_uri": "https://localhost:8080/"
        },
        "id": "qDSCtk4v4JPA",
        "outputId": "311d28eb-dc5e-43dd-8729-31be61a8e5a5"
      },
      "execution_count": 33,
      "outputs": [
        {
          "output_type": "stream",
          "name": "stdout",
          "text": [
            "Epoch 1/20\n",
            "49/49 [==============================] - 8s 118ms/step - loss: 0.2501 - accuracy: 0.5062 - val_loss: 0.2500 - val_accuracy: 0.5000\n",
            "Epoch 2/20\n",
            "49/49 [==============================] - 2s 49ms/step - loss: 0.2502 - accuracy: 0.4976 - val_loss: 0.2502 - val_accuracy: 0.5000\n",
            "Epoch 3/20\n",
            "49/49 [==============================] - 1s 28ms/step - loss: 0.2501 - accuracy: 0.4989 - val_loss: 0.2500 - val_accuracy: 0.5000\n",
            "Epoch 4/20\n",
            "49/49 [==============================] - 1s 29ms/step - loss: 0.2501 - accuracy: 0.4945 - val_loss: 0.2503 - val_accuracy: 0.5000\n",
            "Epoch 5/20\n",
            "49/49 [==============================] - 1s 28ms/step - loss: 0.2500 - accuracy: 0.5060 - val_loss: 0.2505 - val_accuracy: 0.5000\n",
            "Epoch 6/20\n",
            "49/49 [==============================] - 1s 27ms/step - loss: 0.2501 - accuracy: 0.5014 - val_loss: 0.2501 - val_accuracy: 0.5000\n",
            "Epoch 7/20\n",
            "49/49 [==============================] - 1s 29ms/step - loss: 0.2501 - accuracy: 0.4968 - val_loss: 0.2501 - val_accuracy: 0.5000\n",
            "Epoch 8/20\n",
            "49/49 [==============================] - 2s 32ms/step - loss: 0.2501 - accuracy: 0.5042 - val_loss: 0.2501 - val_accuracy: 0.5000\n",
            "Epoch 9/20\n",
            "49/49 [==============================] - 2s 34ms/step - loss: 0.2501 - accuracy: 0.5035 - val_loss: 0.2500 - val_accuracy: 0.5000\n",
            "Epoch 10/20\n",
            "49/49 [==============================] - 1s 29ms/step - loss: 0.2501 - accuracy: 0.4978 - val_loss: 0.2500 - val_accuracy: 0.5000\n",
            "Epoch 11/20\n",
            "49/49 [==============================] - 1s 28ms/step - loss: 0.2500 - accuracy: 0.5044 - val_loss: 0.2502 - val_accuracy: 0.5000\n",
            "Epoch 12/20\n",
            "49/49 [==============================] - 1s 29ms/step - loss: 0.2501 - accuracy: 0.4971 - val_loss: 0.2500 - val_accuracy: 0.5000\n",
            "Epoch 13/20\n",
            "49/49 [==============================] - 1s 28ms/step - loss: 0.2500 - accuracy: 0.5041 - val_loss: 0.2500 - val_accuracy: 0.5000\n",
            "Epoch 14/20\n",
            "49/49 [==============================] - 1s 28ms/step - loss: 0.2500 - accuracy: 0.5007 - val_loss: 0.2503 - val_accuracy: 0.5000\n",
            "Epoch 15/20\n",
            "49/49 [==============================] - 1s 29ms/step - loss: 0.2501 - accuracy: 0.5017 - val_loss: 0.2500 - val_accuracy: 0.5000\n",
            "Epoch 16/20\n",
            "49/49 [==============================] - 2s 43ms/step - loss: 0.2500 - accuracy: 0.5016 - val_loss: 0.2501 - val_accuracy: 0.5000\n",
            "Epoch 17/20\n",
            "49/49 [==============================] - 2s 35ms/step - loss: 0.2500 - accuracy: 0.5054 - val_loss: 0.2501 - val_accuracy: 0.5000\n",
            "Epoch 18/20\n",
            "49/49 [==============================] - 1s 30ms/step - loss: 0.2500 - accuracy: 0.4988 - val_loss: 0.2502 - val_accuracy: 0.5000\n",
            "Epoch 19/20\n",
            "49/49 [==============================] - 2s 47ms/step - loss: 0.2501 - accuracy: 0.5000 - val_loss: 0.2500 - val_accuracy: 0.5000\n",
            "Epoch 20/20\n",
            "49/49 [==============================] - 2s 31ms/step - loss: 0.2500 - accuracy: 0.4982 - val_loss: 0.2500 - val_accuracy: 0.5000\n"
          ]
        }
      ]
    },
    {
      "cell_type": "code",
      "source": [
        "predict_model = model.predict(x_test)\n",
        "predict_model"
      ],
      "metadata": {
        "colab": {
          "base_uri": "https://localhost:8080/"
        },
        "id": "qnJlUIIH4w-Q",
        "outputId": "46903792-1c47-4cef-fadd-7d3ff3fdb7ab"
      },
      "execution_count": 38,
      "outputs": [
        {
          "output_type": "stream",
          "name": "stdout",
          "text": [
            "782/782 [==============================] - 2s 2ms/step\n"
          ]
        },
        {
          "output_type": "execute_result",
          "data": {
            "text/plain": [
              "array([[0.5143348 ],\n",
              "       [0.49874264],\n",
              "       [0.49874264],\n",
              "       ...,\n",
              "       [0.49874264],\n",
              "       [0.49874264],\n",
              "       [0.49874264]], dtype=float32)"
            ]
          },
          "metadata": {},
          "execution_count": 38
        }
      ]
    },
    {
      "cell_type": "code",
      "source": [
        "# The first number, 0.25, is the test loss, and the second number, 0.49, is the test accuracy\n",
        "\n",
        "results = model.evaluate(x_test, y_test)\n",
        "results"
      ],
      "metadata": {
        "colab": {
          "base_uri": "https://localhost:8080/"
        },
        "id": "g5i4OGBR61uo",
        "outputId": "02dfe535-dda8-4452-d74a-410e8a229908"
      },
      "execution_count": 39,
      "outputs": [
        {
          "output_type": "stream",
          "name": "stdout",
          "text": [
            "782/782 [==============================] - 2s 3ms/step - loss: 0.2500 - accuracy: 0.5000\n"
          ]
        },
        {
          "output_type": "execute_result",
          "data": {
            "text/plain": [
              "[0.2500024437904358, 0.4999600052833557]"
            ]
          },
          "metadata": {},
          "execution_count": 39
        }
      ]
    },
    {
      "cell_type": "code",
      "source": [
        "# Plotting the training and validation loss\n",
        "\n",
        "history_dict = history.history\n",
        "loss_values = history_dict[\"loss\"]\n",
        "val_loss_values = history_dict[\"val_loss\"]\n",
        "epochs = range(1, len(loss_values) + 1)\n",
        "plt.plot(epochs, loss_values, \"bo\", label=\"Training loss\") # \"bo\" is for \"blue dot\"\n",
        "plt.plot(epochs, val_loss_values, \"b\", label=\"Validation loss\") # \"b\" is for \"solid blue line\"\n",
        "plt.title(\"Training and validation loss\")\n",
        "plt.xlabel(\"Epochs\")\n",
        "plt.ylabel(\"Loss\")\n",
        "plt.legend()\n",
        "plt.show()"
      ],
      "metadata": {
        "colab": {
          "base_uri": "https://localhost:8080/",
          "height": 472
        },
        "id": "jETzW2ga4PDX",
        "outputId": "2a3fedb1-059b-4c81-fadc-3f55f3fa2ef6"
      },
      "execution_count": 35,
      "outputs": [
        {
          "output_type": "display_data",
          "data": {
            "text/plain": [
              "<Figure size 640x480 with 1 Axes>"
            ],
            "image/png": "[encoded data removed]"
          },
          "metadata": {}
        }
      ]
    },
    {
      "cell_type": "code",
      "source": [
        "# Plotting the training and validation accuracy\n",
        "\n",
        "plt.clf() # Clears the figure\n",
        "history_dict = history.history\n",
        "acc = history_dict[\"accuracy\"]\n",
        "val_acc = history_dict[\"val_accuracy\"]\n",
        "plt.plot(epochs, acc, \"bo\", label=\"Training acc\")\n",
        "plt.plot(epochs, val_acc, \"b\", label=\"Validation acc\")\n",
        "plt.title(\"Training and validation accuracy\")\n",
        "plt.xlabel(\"Epochs\")\n",
        "plt.ylabel(\"Accuracy\")\n",
        "plt.legend()\n",
        "plt.show()"
      ],
      "metadata": {
        "colab": {
          "base_uri": "https://localhost:8080/",
          "height": 472
        },
        "id": "MfzZmF6c4RN5",
        "outputId": "9da66cbe-9509-4c43-e4ea-33400ce6699b"
      },
      "execution_count": 36,
      "outputs": [
        {
          "output_type": "display_data",
          "data": {
            "text/plain": [
              "<Figure size 640x480 with 1 Axes>"
            ],
            "image/png": "[encoded data removed]"
          },
          "metadata": {}
        }
      ]
    },
    {
      "cell_type": "code",
      "source": [
        "new =  model.predict(x_test)\n",
        "new"
      ],
      "metadata": {
        "colab": {
          "base_uri": "https://localhost:8080/"
        },
        "id": "P0FlVVFy6q0U",
        "outputId": "223c6a40-880c-459c-853a-6cc3f9168458"
      },
      "execution_count": 37,
      "outputs": [
        {
          "output_type": "stream",
          "name": "stdout",
          "text": [
            "782/782 [==============================] - 2s 2ms/step\n"
          ]
        },
        {
          "output_type": "execute_result",
          "data": {
            "text/plain": [
              "array([[0.5143348 ],\n",
              "       [0.49874264],\n",
              "       [0.49874264],\n",
              "       ...,\n",
              "       [0.49874264],\n",
              "       [0.49874264],\n",
              "       [0.49874264]], dtype=float32)"
            ]
          },
          "metadata": {},
          "execution_count": 37
        }
      ]
    },
    {
      "cell_type": "code",
      "source": [
        "# The first number, 0.25, is the test loss, and the second number, 0.49, is the test accuracy\n",
        "\n",
        "new_result = model.evaluate(x_test, y_test)\n",
        "new_result"
      ],
      "metadata": {
        "colab": {
          "base_uri": "https://localhost:8080/"
        },
        "id": "Hb4LJx-l6sbL",
        "outputId": "10fdfeac-0c83-4505-c556-08587c897d2b"
      },
      "execution_count": 40,
      "outputs": [
        {
          "output_type": "stream",
          "name": "stdout",
          "text": [
            "782/782 [==============================] - 2s 3ms/step - loss: 0.2500 - accuracy: 0.5000\n"
          ]
        },
        {
          "output_type": "execute_result",
          "data": {
            "text/plain": [
              "[0.2500024437904358, 0.4999600052833557]"
            ]
          },
          "metadata": {},
          "execution_count": 40
        }
      ]
    },
    {
      "cell_type": "code",
      "source": [],
      "metadata": {
        "id": "uuhyTGst7GGN"
      },
      "execution_count": null,
      "outputs": []
    }
  ]
}